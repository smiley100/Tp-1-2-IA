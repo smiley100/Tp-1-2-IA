{
 "cells": [
  {
   "cell_type": "code",
   "execution_count": 5,
   "id": "bde69ea2-0624-4ffe-94d4-207dae52b863",
   "metadata": {},
   "outputs": [
    {
     "name": "stdout",
     "output_type": "stream",
     "text": [
      "   FileSize  NumImports  NumExports  Entropy  Packed  NumStrings  \\\n",
      "0      2695          71           3     7.05       0        1275   \n",
      "1      5182         140          31     5.49       1        4918   \n",
      "2      4957         187          21     7.03       1        3620   \n",
      "3      2527          98          38     2.03       0        3774   \n",
      "4      6488           4          33     7.46       0        2713   \n",
      "\n",
      "   SuspiciousCalls  Label  \n",
      "0               14      1  \n",
      "1                7      1  \n",
      "2               10      1  \n",
      "3                2      0  \n",
      "4                9      1  \n",
      "Accuracy: 0.9667\n"
     ]
    },
    {
     "data": {
      "text/plain": [
       "['scaler.pkl']"
      ]
     },
     "execution_count": 5,
     "metadata": {},
     "output_type": "execute_result"
    }
   ],
   "source": [
    "from sklearn.ensemble import RandomForestClassifier\n",
    "from sklearn.model_selection import train_test_split\n",
    "from sklearn.preprocessing import StandardScaler\n",
    "from sklearn.metrics import accuracy_score\n",
    "import joblib\n",
    "import pandas as pd\n",
    "\n",
    "# Charger les données à partir du fichier CSV\n",
    "df = pd.read_csv('database.csv')\n",
    "\n",
    "# Afficher les premières lignes pour vérifier\n",
    "print(df.head())\n",
    "\n",
    "\n",
    "# Séparation des features (X) et de la cible (y)\n",
    "X = df.drop('Label', axis=1) \n",
    "y = df['Label']  \n",
    "\n",
    "# Standardisation des données\n",
    "scaler = StandardScaler()\n",
    "X_scaled = scaler.fit_transform(X)\n",
    "\n",
    "# Séparation en ensembles d'entraînement et de test\n",
    "X_train, X_test, y_train, y_test = train_test_split(X_scaled, y, test_size=0.2, random_state=42)\n",
    "\n",
    "# Entraînement du modèle Random Forest\n",
    "rf = RandomForestClassifier(n_estimators=100, random_state=42)\n",
    "rf.fit(X_train, y_train)\n",
    "\n",
    "# Prédictions sur l'ensemble de test\n",
    "y_pred = rf.predict(X_test)\n",
    "\n",
    "# Évaluation du modèle\n",
    "accuracy = accuracy_score(y_test, y_pred)\n",
    "print(f\"Accuracy: {accuracy:.4f}\")\n",
    "\n",
    "# Sauvegarder le modèle et le scaler pour Flask\n",
    "joblib.dump(rf, 'rf_model.pkl')\n",
    "joblib.dump(scaler, 'scaler.pkl')\n"
   ]
  },
  {
   "cell_type": "code",
   "execution_count": null,
   "id": "27f1c411-89cd-448d-8349-709df37da52b",
   "metadata": {},
   "outputs": [],
   "source": []
  }
 ],
 "metadata": {
  "kernelspec": {
   "display_name": "Python [conda env:base] *",
   "language": "python",
   "name": "conda-base-py"
  },
  "language_info": {
   "codemirror_mode": {
    "name": "ipython",
    "version": 3
   },
   "file_extension": ".py",
   "mimetype": "text/x-python",
   "name": "python",
   "nbconvert_exporter": "python",
   "pygments_lexer": "ipython3",
   "version": "3.12.7"
  }
 },
 "nbformat": 4,
 "nbformat_minor": 5
}
